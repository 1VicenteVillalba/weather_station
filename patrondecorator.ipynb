{
 "cells": [
  {
   "cell_type": "code",
   "execution_count": 1,
   "metadata": {},
   "outputs": [
    {
     "ename": "ModuleNotFoundError",
     "evalue": "No module named 'fastapi'",
     "output_type": "error",
     "traceback": [
      "\u001b[1;31m---------------------------------------------------------------------------\u001b[0m",
      "\u001b[1;31mModuleNotFoundError\u001b[0m                       Traceback (most recent call last)",
      "Cell \u001b[1;32mIn[1], line 1\u001b[0m\n\u001b[1;32m----> 1\u001b[0m \u001b[38;5;28;01mfrom\u001b[39;00m \u001b[38;5;21;01mfastapi\u001b[39;00m \u001b[38;5;28;01mimport\u001b[39;00m FastAPI, HTTPException\n\u001b[0;32m      2\u001b[0m \u001b[38;5;28;01mfrom\u001b[39;00m \u001b[38;5;21;01mpydantic\u001b[39;00m \u001b[38;5;28;01mimport\u001b[39;00m BaseModel\n\u001b[0;32m      3\u001b[0m \u001b[38;5;28;01mfrom\u001b[39;00m \u001b[38;5;21;01mtyping\u001b[39;00m \u001b[38;5;28;01mimport\u001b[39;00m List\n",
      "\u001b[1;31mModuleNotFoundError\u001b[0m: No module named 'fastapi'"
     ]
    }
   ],
   "source": [
    "from fastapi import FastAPI, HTTPException\n",
    "from pydantic import BaseModel\n",
    "from typing import List\n",
    "\n",
    "# Modelo de datos para representar un usuario en la red social\n",
    "class Usuario(BaseModel):\n",
    "    id: int\n",
    "    nombre: str\n",
    "    email: str\n",
    "\n",
    "# Modelo de datos para representar un post en la red social\n",
    "class Post(BaseModel):\n",
    "    id: int\n",
    "    contenido: str\n",
    "    autor_id: int\n",
    "\n",
    "# Decorador para manejar la autorización de los endpoints\n",
    "def requerir_autorizacion(func):\n",
    "    def wrapper(*args, **kwargs):\n",
    "        # Aquí iría la lógica de autorización\n",
    "        # Por simplicidad, en este ejemplo siempre se permite el acceso\n",
    "        return func(*args, **kwargs)\n",
    "    return wrapper\n",
    "\n",
    "# Crear una instancia de la aplicación FastAPI\n",
    "app = FastAPI()\n",
    "\n",
    "# Ruta para agregar un usuario a la red social (requiere autorización)\n",
    "@app.post(\"/usuarios/\")\n",
    "@requerir_autorizacion\n",
    "def crear_usuario(usuario: Usuario):\n",
    "    # Aquí iría la lógica para agregar el usuario a la base de datos\n",
    "    return {\"mensaje\": \"Usuario creado exitosamente\"}\n",
    "\n",
    "# Ruta para agregar un post a la red social (requiere autorización)\n",
    "@app.post(\"/posts/\")\n",
    "@requerir_autorizacion\n",
    "def crear_post(post: Post):\n",
    "    # Aquí iría la lógica para agregar el post a la base de datos\n",
    "    return {\"mensaje\": \"Post creado exitosamente\"}\n",
    "\n",
    "# Ruta para obtener un usuario por su id (requiere autorización)\n",
    "@app.get(\"/usuarios/{usuario_id}\")\n",
    "@requerir_autorizacion\n",
    "def obtener_usuario_por_id(usuario_id: int):\n",
    "    # Aquí iría la lógica para obtener el usuario de la base de datos\n",
    "    return {\"usuario_id\": usuario_id, \"nombre\": \"Usuario de ejemplo\"}\n",
    "\n",
    "# Ruta para obtener un post por su id (requiere autorización)\n",
    "@app.get(\"/posts/{post_id}\")\n",
    "@requerir_autorizacion\n",
    "def obtener_post_por_id(post_id: int):\n",
    "    # Aquí iría la lógica para obtener el post de la base de datos\n",
    "    return {\"post_id\": post_id, \"contenido\": \"Contenido del post de ejemplo\"}\n",
    "\n",
    "# Ejemplo de implementación de la lógica de autorización (puede ser más compleja en un sistema real)\n",
    "def verificar_autorizacion(usuario_id):\n",
    "    # Aquí iría la lógica real para verificar la autorización del usuario\n",
    "    # Por simplicidad, en este ejemplo siempre se permite el acceso\n",
    "    return True\n",
    "\n",
    "# Simular el uso de la función de verificación de autorización en el decorador\n",
    "def requerir_autorizacion(func):\n",
    "    def wrapper(*args, **kwargs):\n",
    "        usuario_id = 123  # ID del usuario actual, esto puede venir de algún token o sesión\n",
    "        if verificar_autorizacion(usuario_id):\n",
    "            return func(*args, **kwargs)\n",
    "        else:\n",
    "            raise HTTPException(status_code=401, detail=\"No autorizado\")\n",
    "    return wrapper\n"
   ]
  }
 ],
 "metadata": {
  "kernelspec": {
   "display_name": "Python 3",
   "language": "python",
   "name": "python3"
  },
  "language_info": {
   "codemirror_mode": {
    "name": "ipython",
    "version": 3
   },
   "file_extension": ".py",
   "mimetype": "text/x-python",
   "name": "python",
   "nbconvert_exporter": "python",
   "pygments_lexer": "ipython3",
   "version": "3.11.9"
  }
 },
 "nbformat": 4,
 "nbformat_minor": 2
}
